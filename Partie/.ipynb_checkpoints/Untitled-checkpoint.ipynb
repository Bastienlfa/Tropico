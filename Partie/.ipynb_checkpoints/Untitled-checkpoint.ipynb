{
 "cells": [
  {
   "cell_type": "code",
   "execution_count": 21,
   "metadata": {},
   "outputs": [
    {
     "name": "stdout",
     "output_type": "stream",
     "text": [
      "C:\\Users\\benji\\PycharmProjects\\dictador\n"
     ]
    }
   ],
   "source": [
    "import os.path \n",
    "path = os.path.abspath('..')\n",
    "print(path)"
   ]
  },
  {
   "cell_type": "code",
   "execution_count": 37,
   "metadata": {},
   "outputs": [
    {
     "name": "stdout",
     "output_type": "stream",
     "text": [
      "[{'id': 1, 'nom': 'benji', 'mode': 'facile', 'dtc': '101214'}, {'id': 2, 'nom': 'Bastien', 'mode': 'difficile', 'dtc': '125'}]\n"
     ]
    }
   ],
   "source": [
    "import json \n",
    "id = 1\n",
    "nom = 'benji'\n",
    "mode = 'facile'\n",
    "date_ceation = '101214'\n",
    "\n",
    "Party = [{'id' :id,'nom':nom, 'mode' : mode, 'dtc' : date_ceation}]\n",
    "\n",
    "Party2 = {'id' :2,'nom':'Bastien', 'mode' : 'difficile', 'dtc' : '125'}\n",
    "\n",
    "Party.append(Party2)\n",
    "\n",
    "print(Party)"
   ]
  },
  {
   "cell_type": "code",
   "execution_count": null,
   "metadata": {},
   "outputs": [],
   "source": [
    "with open(path/bd.json, \"w\") as write_file:\n",
    "\n",
    "    json.dump(Party, write_file)"
   ]
  }
 ],
 "metadata": {
  "kernelspec": {
   "display_name": "Python 3",
   "language": "python",
   "name": "python3"
  },
  "language_info": {
   "codemirror_mode": {
    "name": "ipython",
    "version": 3
   },
   "file_extension": ".py",
   "mimetype": "text/x-python",
   "name": "python",
   "nbconvert_exporter": "python",
   "pygments_lexer": "ipython3",
   "version": "3.8.5"
  }
 },
 "nbformat": 4,
 "nbformat_minor": 4
}
